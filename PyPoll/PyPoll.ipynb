{
 "cells": [
  {
   "cell_type": "code",
   "execution_count": 2,
   "id": "188aae95",
   "metadata": {},
   "outputs": [],
   "source": [
    "import os\n",
    "import csv"
   ]
  },
  {
   "cell_type": "code",
   "execution_count": 3,
   "id": "ffd06a96",
   "metadata": {},
   "outputs": [
    {
     "data": {
      "text/plain": [
       "'Resources\\\\election_data.csv'"
      ]
     },
     "execution_count": 3,
     "metadata": {},
     "output_type": "execute_result"
    }
   ],
   "source": [
    "csvpath = os.path.join('Resources', 'election_data.csv')\n",
    "csvpath"
   ]
  },
  {
   "cell_type": "code",
   "execution_count": 15,
   "id": "3faeae95",
   "metadata": {
    "scrolled": true
   },
   "outputs": [
    {
     "name": "stdout",
     "output_type": "stream",
     "text": [
      "<_csv.reader object at 0x0000024D7850FE80>\n",
      "CSV Header: ['Voter ID', 'County', 'Candidate']\n",
      "Election Results\n",
      "Total Votes: 3521001\n",
      "Khan: 63% (2218231)\n",
      "Correy: 20% (704200)\n",
      "Li: 14% (492940)\n",
      "O'Tooley: 3% (105630)\n",
      "Winner: Khan\n"
     ]
    }
   ],
   "source": [
    "# Method 2: Improved Reading using CSV module\n",
    "\n",
    "with open(csvpath) as csvfile:\n",
    "\n",
    "    # CSV reader specifies delimiter and variable that holds contents\n",
    "    csvreader = csv.reader(csvfile, delimiter=',')\n",
    "\n",
    "    print(csvreader)\n",
    "\n",
    "    # Read the header row first (skip this step if there is now header)\n",
    "    csv_header = next(csvreader)\n",
    "    print(f\"CSV Header: {csv_header}\")\n",
    "    \n",
    "    Candidate = []\n",
    "    Winner = []\n",
    "\n",
    "#Read each row of data after the header\n",
    "    for row in csvreader:\n",
    "        Candidate.append(row[2])\n",
    "        Total_Votes = len(Candidate)\n",
    "        \n",
    "#calculate the number of occurrence for each name \n",
    "    Khan_Votes = Candidate.count(\"Khan\")\n",
    "    Correy_Votes = Candidate.count(\"Correy\")\n",
    "    Li_Votes = Candidate.count(\"Li\")          \n",
    "    OTooley_Votes = Candidate.count(\"O'Tooley\")\n",
    "\n",
    "#calcualte the percentage of total votes per name\n",
    "    Khan_Win = Khan_Votes/Total_Votes\n",
    "    Correy_Win = Correy_Votes/Total_Votes\n",
    "    Li_Win = Li_Votes/Total_Votes\n",
    "    OTooley_Win = OTooley_Votes/Total_Votes\n",
    "\n",
    "       \n",
    "#provide the max value within the Candidate list \n",
    "Dictionary = {\"Khan\":Khan_Votes, \"Correy\":Correy_Votes, \"Li\":Li_Votes, \"O'Tooley\":OTooley_Votes}\n",
    "Winner_Name = max(Dictionary, key=Dictionary.get)\n",
    "\n",
    "\n",
    "\n",
    "print (\"Election Results\")\n",
    "print (f\"Total Votes: {Total_Votes}\")\n",
    "print (f\"Khan: {Khan_Win:.0%} ({Khan_Votes})\")\n",
    "print (f\"Correy: {Correy_Win:.0%} ({Correy_Votes})\")\n",
    "print (f\"Li: {Li_Win:.0%} ({Li_Votes})\")\n",
    "print (f\"O'Tooley: {OTooley_Win:.0%} ({OTooley_Votes})\")\n",
    "print (f\"Winner: {Winner_Name}\")\n",
    "\n",
    "\n",
    "print (\"Election Results\", file=open(\"output.txt\", \"a\"))\n",
    "print (f\"Total Votes: {Total_Votes}\", file=open(\"output.txt\", \"a\"))\n",
    "print (f\"Khan: {Khan_Win:.0%} ({Khan_Votes})\", file=open(\"output.txt\", \"a\"))\n",
    "print (f\"Correy: {Correy_Win:.0%} ({Correy_Votes})\",file=open(\"output.txt\", \"a\"))\n",
    "print (f\"Li: {Li_Win:.0%} ({Li_Votes})\", file=open(\"output.txt\", \"a\"))\n",
    "print (f\"O'Tooley: {OTooley_Win:.0%} ({OTooley_Votes})\", file=open(\"output.txt\", \"a\"))\n",
    "print (f\"Winner: {Winner_Name}\", file=open(\"output.txt\", \"a\"))\n",
    "\n"
   ]
  },
  {
   "cell_type": "code",
   "execution_count": null,
   "id": "0d618bd7",
   "metadata": {},
   "outputs": [],
   "source": []
  }
 ],
 "metadata": {
  "kernelspec": {
   "display_name": "Python 3",
   "language": "python",
   "name": "python3"
  },
  "language_info": {
   "codemirror_mode": {
    "name": "ipython",
    "version": 3
   },
   "file_extension": ".py",
   "mimetype": "text/x-python",
   "name": "python",
   "nbconvert_exporter": "python",
   "pygments_lexer": "ipython3",
   "version": "3.8.8"
  }
 },
 "nbformat": 4,
 "nbformat_minor": 5
}
