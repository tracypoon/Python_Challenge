{
 "cells": [
  {
   "cell_type": "code",
   "execution_count": 2,
   "id": "55306af6",
   "metadata": {},
   "outputs": [],
   "source": [
    "import os\n",
    "import csv"
   ]
  },
  {
   "cell_type": "code",
   "execution_count": 3,
   "id": "a65bf46f",
   "metadata": {},
   "outputs": [
    {
     "data": {
      "text/plain": [
       "'Resources\\\\budget_data.csv'"
      ]
     },
     "execution_count": 3,
     "metadata": {},
     "output_type": "execute_result"
    }
   ],
   "source": [
    "csvpath = os.path.join('Resources', 'budget_data.csv')\n",
    "csvpath"
   ]
  },
  {
   "cell_type": "code",
   "execution_count": 4,
   "id": "4517c367",
   "metadata": {},
   "outputs": [
    {
     "name": "stdout",
     "output_type": "stream",
     "text": [
      "<_csv.reader object at 0x0000025E28141E80>\n",
      "CSV Header: ['Date', 'Profit/Losses']\n",
      "Fiancial Analysis\n",
      "Total Months: 86\n",
      "Total: $38382578\n",
      "Average Change: $-2315.12\n",
      "Greatest Increase in Profits: Feb-2012 $1926159\n",
      "Greatest Decrease in Profits: Sep-2013 $-2196167\n"
     ]
    }
   ],
   "source": [
    "# Method 2: Improved Reading using CSV module\n",
    "\n",
    "with open(csvpath) as csvfile:\n",
    "\n",
    "    # CSV reader specifies delimiter and variable that holds contents\n",
    "    csvreader = csv.reader(csvfile, delimiter=',')\n",
    "\n",
    "    print(csvreader)\n",
    "\n",
    "    # Read the header row first (skip this step if there is now header)\n",
    "    csv_header = next(csvreader)\n",
    "    print(f\"CSV Header: {csv_header}\")\n",
    "    \n",
    "    month = []\n",
    "    Profit_Loss = []        \n",
    "     \n",
    "# Read each row of data after the header\n",
    "    for row in csvreader:\n",
    "        month.append(row[0])\n",
    "        Profit_Loss.append(int(row[1]))\n",
    "    num_months = len(month)\n",
    "    total = sum(Profit_Loss) \n",
    "        \n",
    "    Change=[]\n",
    "    greatest_increase = []  \n",
    "    greatest_decrease = []\n",
    "    \n",
    "    \n",
    "    for y in range (1, num_months):            \n",
    "        current = Profit_Loss[y]\n",
    "        previous = Profit_Loss[y-1]\n",
    "        difference = current - previous \n",
    "        Change.append(difference)\n",
    "    sum_of_changes = sum(Change)\n",
    "    Count_of_Changes = len(Change)\n",
    "    Average_of_Changes = round(sum_of_changes/Count_of_Changes,2)\n",
    "    Increase = max(Change)\n",
    "    Decrease = min(Change)\n",
    "    greatest_increase = Change.index(Increase) + 1  \n",
    "    greatest_increase = (month [Change.index(Increase) + 1])    \n",
    "    greatest_decrease = Change.index(Decrease)\n",
    "    greatest_decrease = (month [Change.index(Decrease) +1])\n",
    "                     \n",
    "print(\"Fiancial Analysis\")\n",
    "print(f\"Total Months: {num_months}\")\n",
    "print(f\"Total: ${total}\")\n",
    "print(f\"Average Change: ${Average_of_Changes}\")    \n",
    "print(f\"Greatest Increase in Profits: {greatest_increase} ${Increase}\")  \n",
    "print(f\"Greatest Decrease in Profits: {greatest_decrease} ${Decrease}\")    \n",
    "\n",
    "print(\"Fiancial Analysis\", file=open(\"output.txt\", \"a\"))\n",
    "print(f\"Total Months: {num_months}\", file=open(\"output.txt\", \"a\"))\n",
    "print(f\"Total: ${total}\", file=open(\"output.txt\", \"a\"))\n",
    "print(f\"Average Change: ${Average_of_Changes}\", file=open(\"output.txt\", \"a\"))    \n",
    "print(f\"Greatest Increase in Profits: {greatest_increase} ${Increase}\", file=open(\"output.txt\", \"a\"))  \n",
    "print(f\"Greatest Decrease in Profits: {greatest_decrease} ${Decrease}\", file=open(\"output.txt\", \"a\")) \n",
    "\n"
   ]
  },
  {
   "cell_type": "code",
   "execution_count": null,
   "id": "f7149e10",
   "metadata": {},
   "outputs": [],
   "source": []
  }
 ],
 "metadata": {
  "kernelspec": {
   "display_name": "Python 3",
   "language": "python",
   "name": "python3"
  },
  "language_info": {
   "codemirror_mode": {
    "name": "ipython",
    "version": 3
   },
   "file_extension": ".py",
   "mimetype": "text/x-python",
   "name": "python",
   "nbconvert_exporter": "python",
   "pygments_lexer": "ipython3",
   "version": "3.8.8"
  }
 },
 "nbformat": 4,
 "nbformat_minor": 5
}
